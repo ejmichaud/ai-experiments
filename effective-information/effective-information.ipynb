{
 "cells": [
  {
   "cell_type": "markdown",
   "metadata": {},
   "source": [
    "# Investigating effective information in artificial neural networks\n",
    "\n",
    "$$ EI = H(\\langle W_i^\\text{out} \\rangle) - \\langle H(W_i^\\text{out}) \\rangle $$"
   ]
  },
  {
   "cell_type": "code",
   "execution_count": 1,
   "metadata": {},
   "outputs": [],
   "source": [
    "import os\n",
    "from pathlib import Path\n",
    "from itertools import islice\n",
    "import gzip\n",
    "import pickle\n",
    "\n",
    "import numpy as np\n",
    "import matplotlib.pyplot as plt\n",
    "\n",
    "import torch\n",
    "import torch.nn as nn\n",
    "import torch.nn.functional as F\n",
    "from torch.utils.data import Dataset\n",
    "import torchvision\n",
    "import torchvision.transforms as transforms"
   ]
  },
  {
   "cell_type": "code",
   "execution_count": 2,
   "metadata": {},
   "outputs": [],
   "source": [
    "def H(x, dim=0):\n",
    "    \"\"\"Compute the Shannon information entropy of x.\n",
    "    \n",
    "    Given a tensor x, compute the shannon entropy along one of its axes. If\n",
    "    x.shape == (N,) then returns a scalar (0-d tensor). If x.shape == (N, N)\n",
    "    then information can be computed along vertical or horizontal axes by\n",
    "    passing arguments dim=0 and dim=1, respectively.\n",
    "    \n",
    "    Note that the function does not check that the axis along which\n",
    "    information will be computed represents a valid probability distribution.\n",
    "    \n",
    "    Args:\n",
    "        x (torch.tensor) containing probability distribution\n",
    "        dim (int) dimension along which to compute entropy\n",
    "    \n",
    "    Returns:\n",
    "        (torch.tensor) of a lower order than input x\n",
    "    \"\"\"\n",
    "    r = x * torch.log2(x)\n",
    "    r[r != r] = 0\n",
    "    return -torch.sum(r, dim=dim)\n",
    "\n",
    "\n",
    "def soft_norm(W):\n",
    "    \"\"\"Turns 2x2 matrix W into a transition probability matrix.\n",
    "    \n",
    "    The weight/adjacency matrix of an ANN does not on its own allow for EI\n",
    "    to be computed. This is because the out weights of a given neuron are not\n",
    "    a probability distribution (they do not necessarily sum to 1). We therefore\n",
    "    must normalize them. \n",
    "    \n",
    "    Applies a softmax function to each row of matrix\n",
    "    W to ensure that the out-weights are normalized.\n",
    "    \n",
    "    Args:\n",
    "        W (torch.tensor) of shape (2, 2)\n",
    "        \n",
    "    Returns:\n",
    "        (torch.tensor) of shape (2, 2)\n",
    "    \"\"\"\n",
    "    return F.softmax(W, dim=1)\n",
    "\n",
    "\n",
    "def lin_norm(W):\n",
    "    \"\"\"Turns 2x2 matrix W into a transition probability matrix.\n",
    "    \n",
    "    Applies a relu across the rows (to get rid of negative values), and normalize\n",
    "    the rows based on their arithmetic mean.\n",
    "    \n",
    "    Args:\n",
    "        W (torch.tensor) of shape (2, 2)\n",
    "        \n",
    "    Returns:\n",
    "        (torch.tensor) of shape (2, 2)\n",
    "    \"\"\"\n",
    "    W = F.relu(W)\n",
    "    row_sums = torch.sum(W, dim=1)\n",
    "    row_sums[row_sums == 0] = 1\n",
    "    row_sums = row_sums.reshape((-1, 1))\n",
    "    return W / row_sums\n",
    "\n",
    "def sig_norm(W):\n",
    "    \"\"\"Turns 2x2 matrix W into a transition probability matrix.\n",
    "    \n",
    "    Applies logistic function on each element and normalize\n",
    "    across rows.\n",
    "    \n",
    "    Args:\n",
    "        W (torch.tensor) of shape (2, 2)\n",
    "        \n",
    "    Returns:\n",
    "        (torch.tensor) of shape (2, 2)\n",
    "    \"\"\"\n",
    "    W = torch.sigmoid(W)\n",
    "    row_sums = torch.sum(W, dim=1).reshape((-1, 1))\n",
    "    return W / row_sums\n",
    "\n",
    "\n",
    "def EI(W, norm=None):\n",
    "    \"\"\"Compute effective information from connectivity matrix W.\"\"\"\n",
    "    if norm:\n",
    "        W = norm(W)\n",
    "    N = int(W.shape[0]) # number of neurons\n",
    "    degeneracy = H(torch.sum(W, dim=0) / N)\n",
    "    determinism = torch.mean(H(W, dim=1))   \n",
    "    return degeneracy - determinism"
   ]
  },
  {
   "cell_type": "code",
   "execution_count": 3,
   "metadata": {},
   "outputs": [
    {
     "name": "stdout",
     "output_type": "stream",
     "text": [
      "Dataset acquired\n",
      "Loaded data to variable `mnist`\n"
     ]
    }
   ],
   "source": [
    "dir_path = Path().absolute()\n",
    "dataset_path = dir_path.parent / \"data/mnist.pkl.gz\"\n",
    "if not dataset_path.exists():\n",
    "    print('Downloading dataset with curl ...')\n",
    "    if not dataset_path.parent.exists():\n",
    "        os.mkdir(dataset_path.parent)\n",
    "    url = 'http://ericjmichaud.com/downloads/mnist.pkl.gz'\n",
    "    os.system('curl -L {} -o {}'.format(url, dataset_path))\n",
    "print('Download failed') if not dataset_path.exists() else print('Dataset acquired')\n",
    "f = gzip.open(dataset_path, 'rb')\n",
    "mnist = pickle.load(f)\n",
    "f.close()\n",
    "print('Loaded data to variable `mnist`')"
   ]
  },
  {
   "cell_type": "code",
   "execution_count": 4,
   "metadata": {},
   "outputs": [],
   "source": [
    "dtype = torch.cuda.float if torch.cuda.is_available() else torch.float\n",
    "torch.set_default_dtype(dtype)"
   ]
  },
  {
   "cell_type": "code",
   "execution_count": 5,
   "metadata": {},
   "outputs": [],
   "source": [
    "class MNISTDataset(Dataset):\n",
    "    \"\"\"MNIST Digits Dataset.\"\"\"\n",
    "    def __init__(self, data, transform=None):\n",
    "        self.mnist = data\n",
    "        self.transform = transform\n",
    "        \n",
    "    def __len__(self):\n",
    "        return len(self.mnist)\n",
    "\n",
    "    def __getitem__(self, idx):\n",
    "        sample = self.mnist[idx]\n",
    "        if self.transform:\n",
    "            sample = self.transform(sample)\n",
    "        return sample\n",
    "\n",
    "class ToTensor(object):\n",
    "    \"\"\"Convert samples (np.ndarray, np.ndarray) to (torch.tensor, torch.tensor)\"\"\"\n",
    "    def __call__(self, sample):\n",
    "        image, one_hot_label = sample\n",
    "        image = torch.from_numpy(image).to(dtype)\n",
    "        label = torch.tensor(np.argmax(one_hot_label)).to(torch.long)\n",
    "        return (image, label)\n"
   ]
  },
  {
   "cell_type": "code",
   "execution_count": 6,
   "metadata": {},
   "outputs": [],
   "source": [
    "training = MNISTDataset(mnist[:60000], transform=ToTensor())\n",
    "test = MNISTDataset(mnist[60000:], transform=ToTensor())\n",
    "training_loader = torch.utils.data.DataLoader(training, batch_size=10, shuffle=True)\n",
    "test_loader = torch.utils.data.DataLoader(test, batch_size=100, shuffle=True)"
   ]
  },
  {
   "cell_type": "code",
   "execution_count": 14,
   "metadata": {},
   "outputs": [],
   "source": [
    "class SoftmaxRegression(nn.Module):\n",
    "    \"\"\"Single-layer softmax network.\"\"\"\n",
    "    def __init__(self, n_in, n_out):\n",
    "        super(SoftmaxRegression, self).__init__()\n",
    "        self.linear = nn.Linear(n_in, n_out, bias=False)\n",
    "    \n",
    "    def forward(self, x):\n",
    "        return F.log_softmax(self.linear(x), dim=1)\n",
    "        \n",
    "model = SoftmaxRegression(28*28, 10)\n",
    "loss_fn = nn.NLLLoss()\n",
    "optimizer = torch.optim.Adam(model.parameters())"
   ]
  },
  {
   "cell_type": "code",
   "execution_count": 15,
   "metadata": {},
   "outputs": [],
   "source": [
    "W = torch.zeros((28*28 + 10, 28*28 + 10))"
   ]
  },
  {
   "cell_type": "code",
   "execution_count": 16,
   "metadata": {},
   "outputs": [],
   "source": [
    "results = []\n",
    "num_batches = 0\n",
    "for epoch in range(2):\n",
    "    for sample, target in training_loader:\n",
    "        optimizer.zero_grad()\n",
    "        loss_fn(model(sample), target).backward()\n",
    "        optimizer.step()\n",
    "        num_batches += 1\n",
    "        if num_batches % 100 == 0:\n",
    "            correct = 0\n",
    "            outof = 0\n",
    "            with torch.no_grad():\n",
    "                for x, labels in islice(test_loader, 0, 10): # 10 batches of 100 samples\n",
    "                    output = model(x)\n",
    "                    _, pred = torch.max(output, 1)\n",
    "                    correct += (pred == labels).sum().item()\n",
    "                    outof += len(labels)\n",
    "            W[:28*28, 28*28:] = model.linear.weight.t()\n",
    "            results.append((num_batches, correct / outof, EI(W, norm=lin_norm)))\n",
    "            # print(\"Epoch {} | Accuracy = {:.4f}%\".format(epoch, correct / len(test)))\n",
    "            # print(\"Epoch {} |    EI    = {:.6f}\".format(epoch, EI(W, norm=lin_norm)))\n",
    "            # print(\"done with {} batches\".format(num_batches))"
   ]
  },
  {
   "cell_type": "code",
   "execution_count": 17,
   "metadata": {},
   "outputs": [
    {
     "data": {
      "image/png": "[encoded data removed]",
      "text/plain": [
       "<Figure size 432x288 with 2 Axes>"
      ]
     },
     "metadata": {
      "needs_background": "light"
     },
     "output_type": "display_data"
    }
   ],
   "source": [
    "x, ac, ei = zip(*results)\n",
    "\n",
    "plt.subplot(2, 1, 1)\n",
    "plt.plot(x, ac, label='Accuracy', color='green')\n",
    "plt.title(\"Accuracy\")\n",
    "plt.subplot(2, 1, 2)\n",
    "plt.plot(x, ei, label='EI', color='blue')\n",
    "plt.title(\"Effective Information\")\n",
    "# fig, ax1 = plt.subplots()\n",
    "\n",
    "# ax1.set_xlabel('num_batches')\n",
    "# ax1.plot(x, ac, label='accuracy', color='blue')\n",
    "# ax2 = ax1.twinx()  # instantiate a second axes that shares the same x-axis\n",
    "# ax2.plot(x, ei, label='ei', color='red')\n",
    "\n",
    "plt.tight_layout()  # otherwise the right y-label is slightly clipped\n",
    "# plt.show()"
   ]
  },
  {
   "cell_type": "code",
   "execution_count": null,
   "metadata": {},
   "outputs": [],
   "source": [
    "plt.figure(figsize=(12, 6))\n",
    "with torch.no_grad():\n",
    "    for i in range(10):\n",
    "        weights = model.linear.weight[i].reshape(28,28)\n",
    "        plt.subplot(2, 5, i+1)\n",
    "        plt.imshow(weights.detach().numpy(), cmap='plasma')\n",
    "        plt.title(str(i))"
   ]
  },
  {
   "cell_type": "code",
   "execution_count": null,
   "metadata": {},
   "outputs": [],
   "source": []
  },
  {
   "cell_type": "code",
   "execution_count": null,
   "metadata": {},
   "outputs": [],
   "source": []
  },
  {
   "cell_type": "code",
   "execution_count": null,
   "metadata": {},
   "outputs": [],
   "source": [
    "torch.zeros(5)"
   ]
  },
  {
   "cell_type": "code",
   "execution_count": null,
   "metadata": {},
   "outputs": [],
   "source": [
    "N = 100\n",
    "EI(torch.normal(mean=torch.zeros((N, N)), std=1), norm=lin_norm)"
   ]
  },
  {
   "cell_type": "code",
   "execution_count": null,
   "metadata": {},
   "outputs": [],
   "source": [
    "N = 100\n",
    "EI(torch.rand((N,N)))"
   ]
  },
  {
   "cell_type": "code",
   "execution_count": null,
   "metadata": {},
   "outputs": [],
   "source": [
    "N = 100\n",
    "m = torch.zeros((N, N))\n",
    "for i in range(N):\n",
    "    m[i][(i-1)%N] = 1\n",
    "    m[i][(i+1)%N] = 1"
   ]
  },
  {
   "cell_type": "code",
   "execution_count": null,
   "metadata": {},
   "outputs": [],
   "source": [
    "EI(m, norm=lin_norm).item()"
   ]
  }
 ],
 "metadata": {
  "kernelspec": {
   "display_name": "Python 3",
   "language": "python",
   "name": "python3"
  },
  "language_info": {
   "codemirror_mode": {
    "name": "ipython",
    "version": 3
   },
   "file_extension": ".py",
   "mimetype": "text/x-python",
   "name": "python",
   "nbconvert_exporter": "python",
   "pygments_lexer": "ipython3",
   "version": "3.7.3"
  }
 },
 "nbformat": 4,
 "nbformat_minor": 2
}
