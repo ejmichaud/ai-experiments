{
 "cells": [
  {
   "cell_type": "markdown",
   "metadata": {},
   "source": [
    "# Let's explore how EI converges as samples increases"
   ]
  },
  {
   "cell_type": "code",
   "execution_count": 1,
   "metadata": {},
   "outputs": [],
   "source": [
    "import os\n",
    "from pathlib import Path\n",
    "from itertools import islice\n",
    "import gzip\n",
    "import pickle\n",
    "from collections import defaultdict\n",
    "\n",
    "import numpy as np\n",
    "import matplotlib\n",
    "import matplotlib.pyplot as plt\n",
    "from mpl_toolkits.mplot3d import axes3d, Axes3D\n",
    "\n",
    "import torch\n",
    "import torch.nn as nn\n",
    "import torch.nn.functional as F\n",
    "from torch.utils.data import Dataset\n",
    "import torchvision\n",
    "import torchvision.transforms as transforms\n",
    "\n",
    "from ei import topology_of, ei_of_layer"
   ]
  },
  {
   "cell_type": "code",
   "execution_count": 2,
   "metadata": {},
   "outputs": [],
   "source": [
    "# Pretty colormaps\n",
    "def greyscaleMap(collection, item):\n",
    "    size = len(collection)\n",
    "    pos = collection.index(item)\n",
    "    colormap = matplotlib.cm.get_cmap(\"binary\")\n",
    "    return colormap((((0.6 / size * pos) + 0.1)))\n",
    "                    \n",
    "def rainbowMap(collection, item):\n",
    "    size = len(collection)\n",
    "    pos = collection.index(item)\n",
    "    colormap = matplotlib.cm.get_cmap(\"rainbow\")\n",
    "    return colormap(1.0 * pos / size)\n",
    "\n",
    "def magmaMap(collection, item):\n",
    "    size = len(collection)\n",
    "    pos = collection.index(item)\n",
    "    colormap = matplotlib.cm.get_cmap(\"magma\")\n",
    "    return colormap(0.7 * pos / size + 0.2)\n",
    "\n",
    "def blueMap(collection, item):\n",
    "    size = len(collection)\n",
    "    pos = collection.index(item)\n",
    "    colormap = matplotlib.cm.get_cmap(\"Blues\")\n",
    "    return colormap(0.85 * pos / size + 0.15) # avoid using the lightest blue color -- it's not visible"
   ]
  },
  {
   "cell_type": "code",
   "execution_count": 3,
   "metadata": {},
   "outputs": [
    {
     "name": "stdout",
     "output_type": "stream",
     "text": [
      "Using device: cuda\n"
     ]
    }
   ],
   "source": [
    "device = torch.device('cuda' if torch.cuda.is_available() else 'cpu')\n",
    "# dtype = torch.cuda.float if torch.cuda.is_available() else torch.float\n",
    "dtype = torch.float32\n",
    "torch.set_default_dtype(dtype)\n",
    "print(f\"Using device: {device}\")"
   ]
  },
  {
   "cell_type": "markdown",
   "metadata": {},
   "source": [
    "## Example graph:"
   ]
  },
  {
   "cell_type": "code",
   "execution_count": 4,
   "metadata": {},
   "outputs": [],
   "source": [
    "initializers = {\n",
    "    'kaiming': None, # (default)\n",
    "    'xavier_uniform': nn.init.xavier_uniform_,\n",
    "    'xavier_normal': nn.init.xavier_normal_,\n",
    "    'paper': nn.init.uniform_\n",
    "}"
   ]
  },
  {
   "cell_type": "code",
   "execution_count": 5,
   "metadata": {},
   "outputs": [],
   "source": [
    "def weight_initializer(name):\n",
    "    def init_weights(m):\n",
    "        if name == 'kaiming':\n",
    "            return\n",
    "        if name == 'paper':\n",
    "            if isinstance(m, nn.Linear):\n",
    "                boundary = 1 / np.sqrt(m.in_features)\n",
    "                nn.init.uniform_(m.weight, a=-boundary, b=boundary)\n",
    "        elif isinstance(m, nn.Linear):\n",
    "            initializers[name](m.weight)\n",
    "    return init_weights"
   ]
  },
  {
   "cell_type": "code",
   "execution_count": 6,
   "metadata": {},
   "outputs": [],
   "source": [
    "widths = [8, 16, 32, 64, 128, 256, 512]  # 64, 128, 256, 512, 1024]"
   ]
  },
  {
   "cell_type": "code",
   "execution_count": 47,
   "metadata": {
    "scrolled": true
   },
   "outputs": [
    {
     "name": "stdout",
     "output_type": "stream",
     "text": [
      "1000\n",
      "2000\n",
      "3000\n",
      "4000\n",
      "5000\n",
      "6000\n",
      "7000\n",
      "8000\n",
      "9000\n",
      "10000\n",
      "15000\n",
      "20000\n",
      "30000\n",
      "40000\n",
      "50000\n",
      "75000\n",
      "100000\n",
      "200000\n",
      "300000\n",
      "500000\n",
      "800000\n",
      "done with 8\n",
      "1000\n",
      "2000\n",
      "3000\n",
      "4000\n",
      "5000\n",
      "6000\n",
      "7000\n",
      "8000\n",
      "9000\n",
      "10000\n",
      "15000\n",
      "20000\n",
      "30000\n",
      "40000\n",
      "50000\n",
      "75000\n",
      "100000\n",
      "200000\n",
      "300000\n",
      "500000\n",
      "800000\n",
      "done with 16\n",
      "1000\n",
      "2000\n",
      "3000\n",
      "4000\n",
      "5000\n",
      "6000\n",
      "7000\n",
      "8000\n",
      "9000\n",
      "10000\n",
      "15000\n",
      "20000\n",
      "30000\n",
      "40000\n",
      "50000\n",
      "75000\n",
      "100000\n",
      "200000\n",
      "300000\n",
      "500000\n",
      "800000\n",
      "done with 32\n",
      "1000\n",
      "2000\n",
      "3000\n",
      "4000\n",
      "5000\n",
      "6000\n",
      "7000\n",
      "8000\n",
      "9000\n",
      "10000\n",
      "15000\n",
      "20000\n",
      "30000\n",
      "40000\n",
      "50000\n",
      "75000\n",
      "100000\n",
      "200000\n",
      "300000\n",
      "500000\n",
      "800000\n",
      "done with 64\n",
      "1000\n",
      "2000\n",
      "3000\n",
      "4000\n",
      "5000\n",
      "6000\n",
      "7000\n",
      "8000\n",
      "9000\n",
      "10000\n",
      "15000\n",
      "20000\n",
      "30000\n",
      "40000\n",
      "50000\n",
      "75000\n",
      "100000\n",
      "200000\n",
      "300000\n",
      "500000\n",
      "781250\n",
      "18750\n",
      "done with 128\n",
      "1000\n",
      "2000\n",
      "3000\n",
      "4000\n",
      "5000\n",
      "6000\n",
      "7000\n",
      "8000\n",
      "9000\n",
      "10000\n",
      "15000\n",
      "20000\n",
      "30000\n",
      "40000\n",
      "50000\n",
      "75000\n",
      "100000\n",
      "200000\n",
      "300000\n",
      "390625\n",
      "109375\n",
      "390625\n",
      "390625\n",
      "18750\n",
      "done with 256\n",
      "1000\n",
      "2000\n",
      "3000\n",
      "4000\n",
      "5000\n",
      "6000\n",
      "7000\n",
      "8000\n",
      "9000\n",
      "10000\n",
      "15000\n",
      "20000\n",
      "30000\n",
      "40000\n",
      "50000\n",
      "75000\n",
      "100000\n",
      "195312\n",
      "4688\n",
      "195312\n",
      "104688\n",
      "195312\n",
      "195312\n",
      "109376\n",
      "195312\n",
      "195312\n",
      "195312\n",
      "195312\n",
      "18752\n",
      "done with 512\n"
     ]
    }
   ],
   "source": [
    "sample_sizes = [1000, 2000, 3000, 4000, 5000, 6000, 7000, 8000, 9000, 10000, \n",
    "                15000, 20000, 30000, 40000, 50000, 75000, 100000, 200000,\n",
    "                300000, 500000, 800000]\n",
    "eis = defaultdict(list)\n",
    "\n",
    "for width in widths:\n",
    "    network = nn.Linear(width, width, bias=False).to(device)\n",
    "    top = topology_of(network, input=torch.zeros((1, width)).to(device))\n",
    "    network.apply(weight_initializer('paper'))\n",
    "    for size in sample_sizes:\n",
    "        EI = EI_of_layer(network, top, \n",
    "                         samples=size, \n",
    "                         batch_size=300, \n",
    "                         bins=64,\n",
    "                         activation=nn.Sigmoid(),\n",
    "                         in_range=(0, 1), \n",
    "                         out_range=(0, 1),\n",
    "                         device=device)\n",
    "        eis[width].append(EI)\n",
    "    print(\"done with {}\".format(width))"
   ]
  },
  {
   "cell_type": "code",
   "execution_count": 74,
   "metadata": {},
   "outputs": [],
   "source": [
    "with open(\"data/convergence.pkl\", \"wb\") as f:\n",
    "    pickle.dump(eis, f)"
   ]
  },
  {
   "cell_type": "code",
   "execution_count": 7,
   "metadata": {},
   "outputs": [],
   "source": [
    "with open(\"data/convergence.pkl\", \"rb\") as f:\n",
    "    eis = pickle.load(f)"
   ]
  },
  {
   "cell_type": "code",
   "execution_count": 9,
   "metadata": {},
   "outputs": [],
   "source": [
    "sample_sizes = [1000, 2000, 3000, 4000, 5000, 6000, 7000, 8000, 9000, 10000, \n",
    "                15000, 20000, 30000, 40000, 50000, 75000, 100000, 200000,\n",
    "                300000, 500000, 800000]"
   ]
  },
  {
   "cell_type": "code",
   "execution_count": 11,
   "metadata": {},
   "outputs": [
    {
     "data": {
      "image/png": "[encoded data removed]",
      "text/plain": [
       "<Figure size 432x288 with 1 Axes>"
      ]
     },
     "metadata": {
      "needs_background": "light"
     },
     "output_type": "display_data"
    }
   ],
   "source": [
    "fig = plt.figure()\n",
    "ax = fig.gca()\n",
    "#fig, ax = plt.subplots(1,1)\n",
    "#plt.figsize()\n",
    "for width in widths:\n",
    "    plt.plot(sample_sizes, eis[width], label=str(width), color=magmaMap(widths, width), linewidth=2)\n",
    "    \n",
    "#matplotlib.pyplot.plot((0.0,seriesMax / seriesDelta),(0.0,0.0),'lightgray')\n",
    "# fig.legend(loc=(0.69,0.58),prop={'size':10})\n",
    "\n",
    "#plt.autoscale(False)\n",
    "# ax.plot((30,30),(-20.0,405),'black')\n",
    "\n",
    "ax.set_title(\"EI Convergence\", fontsize=15)\n",
    "ax.set_xlabel('Time Series Length', fontsize=15)\n",
    "ax.set_ylabel('Effective Information (bits)', fontsize=15)\n",
    "plt.yscale('log')\n",
    "plt.ylim(3, 1000000)\n",
    "# plt.xlim(0, 650000)\n",
    "\n",
    "# ax.yaxis.set_major_locator(matplotlib.ticker.MultipleLocator(200000))\n",
    "ax.tick_params(axis='both', which='major',labelsize=12)\n",
    "ax.xaxis.set_major_locator(matplotlib.ticker.MultipleLocator(200000))\n",
    "\n",
    "# plt.draw()\n",
    "# limit = ax.get_ylim()\n",
    "plt.autoscale(False)\n",
    "# ax.xaxis.set_major_locator(matplotlib.ticker.MultipleLocator(15))\n",
    "# ax.xaxis.set_ticklabels(['','0','15,000','30,000','45,000','60,000', '100,000'])\n",
    "\n",
    "plt.legend(loc='upper right') #, title=\"width\")\n",
    "\n",
    "plt.savefig(\"figures/convergence/convergence_standard\", dpi=300, bbox_inches='tight')"
   ]
  },
  {
   "cell_type": "markdown",
   "metadata": {},
   "source": [
    "## I notice that even after 800000, even for small layers, EI hasn't converged as well as I'd have hoped. Let's inspect this:"
   ]
  },
  {
   "cell_type": "code",
   "execution_count": 87,
   "metadata": {},
   "outputs": [
    {
     "name": "stdout",
     "output_type": "stream",
     "text": [
      "50000\n",
      "100000\n",
      "200000\n",
      "400000\n",
      "800000\n",
      "1600000\n",
      "3200000\n",
      "3333333\n",
      "3066667\n",
      "3333333\n",
      "3333333\n",
      "3333333\n",
      "2800001\n",
      "3333333\n",
      "3333333\n",
      "3333333\n",
      "3333333\n",
      "3333333\n",
      "3333333\n",
      "3333333\n",
      "2266669\n",
      "3333333\n",
      "3333333\n",
      "3333333\n",
      "3333333\n",
      "3333333\n",
      "3333333\n",
      "3333333\n",
      "3333333\n",
      "3333333\n",
      "3333333\n",
      "3333333\n",
      "3333333\n",
      "3333333\n",
      "3333333\n",
      "3333333\n",
      "1200005\n"
     ]
    }
   ],
   "source": [
    "width = 30\n",
    "network = nn.Linear(width, width, bias=False).to(device)\n",
    "network.apply(weight_initializer('paper'))\n",
    "top = topology_of(network, input=torch.zeros((1, width)).to(device))\n",
    "\n",
    "eis_long = []\n",
    "lengths = [50000, 100000, 200000, 400000, 800000, 1600000, 3200000, 6400000, 12800000, 25600000, 51200000]\n",
    "for length in lengths:\n",
    "    EI = EI_of_layer(network, top, \n",
    "                     samples=length, \n",
    "                     batch_size=100, \n",
    "                     bins=64,\n",
    "                     activation=nn.Sigmoid(),\n",
    "                     in_range=(0, 1), \n",
    "                     out_range=(0, 1),\n",
    "                     device=device)\n",
    "    eis_long.append(EI)"
   ]
  },
  {
   "cell_type": "code",
   "execution_count": 88,
   "metadata": {},
   "outputs": [
    {
     "name": "stdout",
     "output_type": "stream",
     "text": [
      "36.82578152485245\n",
      "29.676967790300267\n",
      "25.99123895774333\n",
      "24.069946885389232\n",
      "23.099360736186807\n",
      "22.602075322213945\n",
      "22.328272186164973\n",
      "22.189842812347383\n",
      "22.12353420795529\n",
      "22.085022482801477\n",
      "22.06853443698957\n"
     ]
    }
   ],
   "source": [
    "for ei in eis_long:\n",
    "    print(ei)"
   ]
  },
  {
   "cell_type": "markdown",
   "metadata": {},
   "source": [
    "## Let's now compare this with the automatic stopping function:"
   ]
  },
  {
   "cell_type": "code",
   "execution_count": 89,
   "metadata": {},
   "outputs": [
    {
     "name": "stdout",
     "output_type": "stream",
     "text": [
      "10000\n",
      "10000: 87.78156383538193\n",
      "10000\n",
      "20000: 56.34646886503279\n",
      "20000\n",
      "40000: 40.005927283676165\n",
      "40000\n",
      "80000: 31.389300475836617\n",
      "80000\n",
      "160000: 26.88100360249247\n",
      "160000\n",
      "320000: 24.562069557615953\n",
      "320000\n",
      "640000: 23.34418344470418\n",
      "640000\n",
      "1280000: 22.714698926383985\n",
      "1280000\n",
      "2560000: 22.391248574027475\n",
      "22.391248574027475\n"
     ]
    }
   ],
   "source": [
    "EI = EI_of_layer(network, top,\n",
    "                threshold=0.05,\n",
    "                batch_size=100,\n",
    "                bins=64,\n",
    "                activation=nn.Sigmoid(),\n",
    "                in_range=(0, 1),\n",
    "                out_range=(0, 1),\n",
    "                device=device)\n",
    "print(EI)"
   ]
  },
  {
   "cell_type": "markdown",
   "metadata": {},
   "source": [
    "## Let's now instead of plotting the EI vs samples for different layer widths, let's fix the layer width and instead plot for different number of bins."
   ]
  },
  {
   "cell_type": "code",
   "execution_count": 12,
   "metadata": {},
   "outputs": [
    {
     "name": "stdout",
     "output_type": "stream",
     "text": [
      "done with 8\n",
      "done with 16\n",
      "done with 32\n",
      "done with 64\n",
      "done with 128\n"
     ]
    }
   ],
   "source": [
    "sample_sizes = [1000, 2000, 3000, 4000, 5000, 6000, 7000, 8000, 9000, 10000, \n",
    "                15000, 20000, 30000, 40000, 50000, 75000, 100000, 200000,\n",
    "                300000, 500000, 800000]\n",
    "bin_sizes = [8, 16, 32, 64, 128]\n",
    "\n",
    "eis = defaultdict(list)\n",
    "\n",
    "width = 30\n",
    "network = nn.Linear(width, width, bias=False).to(device)\n",
    "top = topology_of(network, input=torch.zeros((1, width)).to(device))\n",
    "network.apply(weight_initializer('paper'))\n",
    "\n",
    "for bins in bin_sizes:\n",
    "    for size in sample_sizes:\n",
    "        EI = ei_of_layer(network, top, \n",
    "                         samples=size, \n",
    "                         batch_size=100, \n",
    "                         activation=nn.Sigmoid(),\n",
    "                         in_range=(0, 1),\n",
    "                         in_bins=bins,\n",
    "                         out_range=(0, 1),\n",
    "                         out_bins=bins,\n",
    "                         device=device)\n",
    "        eis[bins].append(EI)\n",
    "    print(\"done with {}\".format(bins))"
   ]
  },
  {
   "cell_type": "code",
   "execution_count": 11,
   "metadata": {},
   "outputs": [
    {
     "data": {
      "text/plain": [
       "defaultdict(list,\n",
       "            {8: [566.3628710641459,\n",
       "              314.89687120761846,\n",
       "              224.93280116874465,\n",
       "              178.94252338834463,\n",
       "              149.06705213180427,\n",
       "              129.46120131994988,\n",
       "              115.38837938362212,\n",
       "              104.22380897624359,\n",
       "              96.05039134100572,\n",
       "              89.09507992571113,\n",
       "              68.10312269264837,\n",
       "              57.035178531086416,\n",
       "              46.203812232295185,\n",
       "              40.38783292823235,\n",
       "              36.86468627764668,\n",
       "              32.21433477941928,\n",
       "              29.79048849674184,\n",
       "              26.058156642508045,\n",
       "              24.77067113818395,\n",
       "              23.701872065334168,\n",
       "              23.090098393488297],\n",
       "             16: [565.5024053728536,\n",
       "              314.23193548446187,\n",
       "              225.52428805755758,\n",
       "              177.95496864149754,\n",
       "              149.8127652746867,\n",
       "              129.77168397477263,\n",
       "              115.48847958825415,\n",
       "              104.59663669159752,\n",
       "              95.99328400696601,\n",
       "              89.42147532005073,\n",
       "              68.27382208235042,\n",
       "              57.229336416421766,\n",
       "              46.10049195849559,\n",
       "              40.467249874724445,\n",
       "              36.899443265032005,\n",
       "              32.22976207347797,\n",
       "              29.77908388210112,\n",
       "              26.041272308837648,\n",
       "              24.764623045552202,\n",
       "              23.71203919583935,\n",
       "              23.10279626691886],\n",
       "             32: [567.8529424001813,\n",
       "              316.08441017421916,\n",
       "              225.2440862798763,\n",
       "              178.5035934233877,\n",
       "              150.07060742919313,\n",
       "              129.27849948853998,\n",
       "              115.43317049502764,\n",
       "              104.32924800862274,\n",
       "              96.38522214591808,\n",
       "              89.29932511795938,\n",
       "              67.87765236168008,\n",
       "              57.13232984495291,\n",
       "              46.07374672734032,\n",
       "              40.42176359330484,\n",
       "              36.99138582783861,\n",
       "              32.205505276844214,\n",
       "              29.796707297554885,\n",
       "              26.040965306133387,\n",
       "              24.75547625066603,\n",
       "              23.701806714844356,\n",
       "              23.103398474657705],\n",
       "             64: [568.249388886043,\n",
       "              317.82540922913176,\n",
       "              225.68232842796257,\n",
       "              178.79840913609706,\n",
       "              150.12476021912974,\n",
       "              129.94242328733705,\n",
       "              115.6827553253021,\n",
       "              104.64019246005432,\n",
       "              96.23709256388233,\n",
       "              89.27435899780654,\n",
       "              68.14727924737824,\n",
       "              57.49364173101601,\n",
       "              46.18135144847813,\n",
       "              40.332216119852184,\n",
       "              36.91873981929934,\n",
       "              32.259935519680866,\n",
       "              29.752349420659336,\n",
       "              26.024550757576908,\n",
       "              24.75848817636651,\n",
       "              23.71696147718489,\n",
       "              23.105618846833746],\n",
       "             128: [561.1925999051929,\n",
       "              315.21653820426104,\n",
       "              225.82179691891747,\n",
       "              179.02117189442922,\n",
       "              150.08560272452607,\n",
       "              130.10708098437527,\n",
       "              116.457204154371,\n",
       "              105.12174507548822,\n",
       "              96.28472642305978,\n",
       "              89.31171679740619,\n",
       "              68.35782843440272,\n",
       "              57.19622929702104,\n",
       "              46.04364106032696,\n",
       "              40.53051905035365,\n",
       "              36.95929473351125,\n",
       "              32.222953710448856,\n",
       "              29.761750961578237,\n",
       "              26.041630008281995,\n",
       "              24.775269678388813,\n",
       "              23.70524454079334,\n",
       "              23.1036929576152]})"
      ]
     },
     "execution_count": 11,
     "metadata": {},
     "output_type": "execute_result"
    }
   ],
   "source": [
    "eis"
   ]
  },
  {
   "cell_type": "code",
   "execution_count": 14,
   "metadata": {},
   "outputs": [
    {
     "data": {
      "image/png": "[encoded data removed]",
      "text/plain": [
       "<Figure size 432x288 with 1 Axes>"
      ]
     },
     "metadata": {
      "needs_background": "light"
     },
     "output_type": "display_data"
    }
   ],
   "source": [
    "fig = plt.figure(figsize=(6, 4))\n",
    "ax = fig.gca()\n",
    "#fig, ax = plt.subplots(1,1)\n",
    "#plt.figsize()\n",
    "for bins in bin_sizes:\n",
    "    plt.plot(sample_sizes, eis[bins], label=str(bins), color=magmaMap(bin_sizes, bins), linewidth=2)\n",
    "    \n",
    "#matplotlib.pyplot.plot((0.0,seriesMax / seriesDelta),(0.0,0.0),'lightgray')\n",
    "# fig.legend(loc=(0.69,0.58),prop={'size':10})\n",
    "\n",
    "#plt.autoscale(False)\n",
    "# ax.plot((30,30),(-20.0,405),'black')\n",
    "\n",
    "ax.set_title(\"EI Convergence\", fontsize=15)\n",
    "ax.set_xlabel('Time Series Length', fontsize=15)\n",
    "ax.set_ylabel('Effective Information (bits)', fontsize=15)\n",
    "plt.yscale('log')\n",
    "# plt.ylim(8, 500)\n",
    "#plt.xlim(0, 650000)\n",
    "\n",
    "# ax.yaxis.set_major_locator(matplotlib.ticker.MultipleLocator(200000))\n",
    "ax.tick_params(axis='both', which='major',labelsize=12)\n",
    "ax.xaxis.set_major_locator(matplotlib.ticker.MultipleLocator(200000))\n",
    "\n",
    "# plt.draw()\n",
    "# limit = ax.get_ylim()\n",
    "# plt.autoscale(False)\n",
    "# ax.xaxis.set_major_locator(matplotlib.ticker.MultipleLocator(15))\n",
    "# ax.xaxis.set_ticklabels(['','0','15,000','30,000','45,000','60,000', '100,000'])\n",
    "\n",
    "plt.legend(loc='upper right', title=\"bins\")\n",
    "\n",
    "plt.savefig(\"figures/convergence/convergence_standard_varying_bins_30_wide\", dpi=300, bbox_inches='tight')"
   ]
  },
  {
   "cell_type": "code",
   "execution_count": null,
   "metadata": {},
   "outputs": [],
   "source": []
  }
 ],
 "metadata": {
  "kernelspec": {
   "display_name": "Python 3",
   "language": "python",
   "name": "python3"
  },
  "language_info": {
   "codemirror_mode": {
    "name": "ipython",
    "version": 3
   },
   "file_extension": ".py",
   "mimetype": "text/x-python",
   "name": "python",
   "nbconvert_exporter": "python",
   "pygments_lexer": "ipython3",
   "version": "3.7.3"
  }
 },
 "nbformat": 4,
 "nbformat_minor": 2
}
