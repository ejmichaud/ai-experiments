{
 "cells": [
  {
   "cell_type": "markdown",
   "metadata": {},
   "source": [
    "# Reproductions of figure 3"
   ]
  },
  {
   "cell_type": "code",
   "execution_count": 1,
   "metadata": {},
   "outputs": [],
   "source": [
    "import sys\n",
    "sys.path.append(\"../\")\n",
    "\n",
    "import os\n",
    "from pathlib import Path\n",
    "import pickle\n",
    "from collections import defaultdict\n",
    "\n",
    "import numpy as np\n",
    "import matplotlib\n",
    "import matplotlib.pyplot as plt\n",
    "from mpl_toolkits.mplot3d import axes3d, Axes3D\n",
    "\n",
    "import torch\n",
    "import torch.nn as nn\n",
    "\n",
    "from ei import topology_of, ei_of_layer"
   ]
  },
  {
   "cell_type": "markdown",
   "metadata": {},
   "source": [
    "## Colormaps"
   ]
  },
  {
   "cell_type": "code",
   "execution_count": 2,
   "metadata": {},
   "outputs": [],
   "source": [
    "def greyscaleMap(collection, item):\n",
    "    size = len(collection)\n",
    "    pos = collection.index(item)\n",
    "    colormap = matplotlib.cm.get_cmap(\"binary\")\n",
    "    return colormap((((0.6 / size * pos) + 0.1)))\n",
    "                    \n",
    "def rainbowMap(collection, item):\n",
    "    size = len(collection)\n",
    "    pos = collection.index(item)\n",
    "    colormap = matplotlib.cm.get_cmap(\"rainbow\")\n",
    "    return colormap(1.0 * pos / size)\n",
    "\n",
    "def magmaMap(collection, item):\n",
    "    size = len(collection)\n",
    "    pos = collection.index(item)\n",
    "    colormap = matplotlib.cm.get_cmap(\"magma\")\n",
    "    return colormap(0.7 * pos / size + 0.2)\n",
    "\n",
    "def blueMap(collection, item):\n",
    "    size = len(collection)\n",
    "    pos = collection.index(item)\n",
    "    colormap = matplotlib.cm.get_cmap(\"Blues\")\n",
    "    return colormap(0.85 * pos / size + 0.15) # avoid using the lightest blue color -- it's not visible"
   ]
  },
  {
   "cell_type": "markdown",
   "metadata": {},
   "source": [
    "## Set device"
   ]
  },
  {
   "cell_type": "code",
   "execution_count": 3,
   "metadata": {},
   "outputs": [
    {
     "name": "stdout",
     "output_type": "stream",
     "text": [
      "Using device: cuda\n"
     ]
    }
   ],
   "source": [
    "device = torch.device('cuda' if torch.cuda.is_available() else 'cpu')\n",
    "# dtype = torch.cuda.float if torch.cuda.is_available() else torch.float\n",
    "dtype = torch.float32\n",
    "torch.set_default_dtype(dtype)\n",
    "print(f\"Using device: {device}\")"
   ]
  },
  {
   "cell_type": "markdown",
   "metadata": {},
   "source": [
    "## Define initializers"
   ]
  },
  {
   "cell_type": "code",
   "execution_count": 4,
   "metadata": {},
   "outputs": [],
   "source": [
    "initializers = {\n",
    "    'kaiming': None, # (default)\n",
    "    'xavier_uniform': nn.init.xavier_uniform_,\n",
    "    'xavier_normal': nn.init.xavier_normal_,\n",
    "    'paper': nn.init.uniform_\n",
    "}\n",
    "\n",
    "def weight_initializer(name):\n",
    "    def init_weights(m):\n",
    "        if name == 'kaiming':\n",
    "            return\n",
    "        if name == 'paper':\n",
    "            if isinstance(m, nn.Linear):\n",
    "                boundary = 1 / np.sqrt(m.in_features)\n",
    "                nn.init.uniform_(m.weight, a=-boundary, b=boundary)\n",
    "        elif isinstance(m, nn.Linear):\n",
    "            initializers[name](m.weight)\n",
    "    return init_weights"
   ]
  },
  {
   "cell_type": "code",
   "execution_count": 7,
   "metadata": {},
   "outputs": [],
   "source": [
    "widths = [8, 16, 32, 64, 128, 256, 512]\n",
    "\n",
    "sample_sizes = [1000, 2000, 3000, 4000, 5000, 6000, 7000, 8000, 9000, 10000, \n",
    "                15000, 20000, 30000, 40000, 50000, 75000, 100000, 200000,\n",
    "                300000, 500000, 800000]"
   ]
  },
  {
   "cell_type": "markdown",
   "metadata": {},
   "source": [
    "## Compute EI on lots of different networks with lots of different samples sizes, and save data... this takes a very long time to finish!"
   ]
  },
  {
   "cell_type": "code",
   "execution_count": null,
   "metadata": {},
   "outputs": [],
   "source": [
    "eis = defaultdict(list)\n",
    "\n",
    "for width in widths:\n",
    "    network = nn.Linear(width, width, bias=False).to(device)\n",
    "    top = topology_of(network, input=torch.zeros((1, width)).to(device))\n",
    "    network.apply(weight_initializer('paper'))\n",
    "    for size in sample_sizes:\n",
    "        EI = ei_of_layer(network, top, \n",
    "                         samples=size, \n",
    "                         batch_size=300, \n",
    "                         in_range=(0, 1),\n",
    "                         in_bins=64,\n",
    "                         out_range=(0, 1),\n",
    "                         out_bins=64,\n",
    "                         activation=nn.Sigmoid(),\n",
    "                         device=device)\n",
    "        eis[width].append(EI)\n",
    "    print(\"done with {}\".format(width))\n",
    "\n",
    "with open(\"saved_data/convergence.pkl\", \"wb\") as f:\n",
    "    pickle.dump(eis, f)"
   ]
  },
  {
   "cell_type": "markdown",
   "metadata": {},
   "source": [
    "## Load data"
   ]
  },
  {
   "cell_type": "code",
   "execution_count": 6,
   "metadata": {},
   "outputs": [],
   "source": [
    "with open(\"saved_data/convergence.pkl\", \"rb\") as f:\n",
    "    eis = pickle.load(f)"
   ]
  },
  {
   "cell_type": "markdown",
   "metadata": {},
   "source": [
    "## Plot convergence of multiple networks at varying sample sizes with fixed bin size"
   ]
  },
  {
   "cell_type": "code",
   "execution_count": 8,
   "metadata": {},
   "outputs": [
    {
     "data": {
      "text/plain": [
       "<matplotlib.legend.Legend at 0x7fd37605c080>"
      ]
     },
     "execution_count": 8,
     "metadata": {},
     "output_type": "execute_result"
    },
    {
     "data": {
      "image/png": "[encoded data removed]",
      "text/plain": [
       "<Figure size 432x288 with 1 Axes>"
      ]
     },
     "metadata": {
      "needs_background": "light"
     },
     "output_type": "display_data"
    }
   ],
   "source": [
    "fig = plt.figure()\n",
    "ax = fig.gca()\n",
    "\n",
    "for width in widths:\n",
    "    plt.plot(sample_sizes, eis[width], label=str(width), color=magmaMap(widths, width), linewidth=2)\n",
    "    \n",
    "ax.set_title(\"EI Convergence\", fontsize=15)\n",
    "ax.set_xlabel('Time Series Length', fontsize=15)\n",
    "ax.set_ylabel('Effective Information (bits)', fontsize=15)\n",
    "plt.yscale('log')\n",
    "plt.ylim(3, 1000000)\n",
    "# plt.xlim(0, 650000)\n",
    "\n",
    "ax.tick_params(axis='both', which='major',labelsize=12)\n",
    "ax.xaxis.set_major_locator(matplotlib.ticker.MultipleLocator(200000))\n",
    "\n",
    "plt.autoscale(False)\n",
    "\n",
    "plt.legend(loc='upper right') #, title=\"width\")\n",
    "\n",
    "# plt.savefig(\"figures/convergence/convergence_standard\", dpi=300, bbox_inches='tight')"
   ]
  },
  {
   "cell_type": "markdown",
   "metadata": {},
   "source": [
    "## Let's now instead of plotting the EI vs samples for different layer widths, let's fix the layer width and instead plot for different number of bins."
   ]
  },
  {
   "cell_type": "code",
   "execution_count": 9,
   "metadata": {},
   "outputs": [
    {
     "name": "stdout",
     "output_type": "stream",
     "text": [
      "done with 8\n",
      "done with 16\n",
      "done with 32\n",
      "done with 64\n",
      "done with 128\n"
     ]
    }
   ],
   "source": [
    "sample_sizes = [1000, 2000, 3000, 4000, 5000, 6000, 7000, 8000, 9000, 10000, \n",
    "                15000, 20000, 30000, 40000, 50000, 75000, 100000, 200000,\n",
    "                300000, 500000, 800000]\n",
    "bin_sizes = [8, 16, 32, 64, 128]\n",
    "\n",
    "eis = defaultdict(list)\n",
    "\n",
    "width = 30\n",
    "network = nn.Linear(width, width, bias=False).to(device)\n",
    "top = topology_of(network, input=torch.zeros((1, width)).to(device))\n",
    "network.apply(weight_initializer('paper'))\n",
    "\n",
    "for bins in bin_sizes:\n",
    "    for size in sample_sizes:\n",
    "        EI = ei_of_layer(network, top, \n",
    "                         samples=size, \n",
    "                         batch_size=100, \n",
    "                         activation=nn.Sigmoid(),\n",
    "                         in_range=(0, 1),\n",
    "                         in_bins=bins,\n",
    "                         out_range=(0, 1),\n",
    "                         out_bins=bins,\n",
    "                         device=device)\n",
    "        eis[bins].append(EI)\n",
    "    print(\"done with {}\".format(bins))"
   ]
  },
  {
   "cell_type": "code",
   "execution_count": 10,
   "metadata": {},
   "outputs": [
    {
     "data": {
      "text/plain": [
       "<matplotlib.legend.Legend at 0x7fd375de4b38>"
      ]
     },
     "execution_count": 10,
     "metadata": {},
     "output_type": "execute_result"
    },
    {
     "data": {
      "image/png": "[encoded data removed]",
      "text/plain": [
       "<Figure size 432x288 with 1 Axes>"
      ]
     },
     "metadata": {
      "needs_background": "light"
     },
     "output_type": "display_data"
    }
   ],
   "source": [
    "fig = plt.figure(figsize=(6, 4))\n",
    "ax = fig.gca()\n",
    "\n",
    "for bins in bin_sizes:\n",
    "    plt.plot(sample_sizes, eis[bins], label=str(bins), color=magmaMap(bin_sizes, bins), linewidth=2)\n",
    "    \n",
    "ax.set_title(\"EI Convergence\", fontsize=15)\n",
    "ax.set_xlabel('Time Series Length', fontsize=15)\n",
    "ax.set_ylabel('Effective Information (bits)', fontsize=15)\n",
    "plt.yscale('log')\n",
    "# plt.ylim(8, 500)\n",
    "#plt.xlim(0, 650000)\n",
    "\n",
    "ax.tick_params(axis='both', which='major',labelsize=12)\n",
    "ax.xaxis.set_major_locator(matplotlib.ticker.MultipleLocator(200000))\n",
    "\n",
    "\n",
    "plt.legend(loc='upper right', title=\"bins\")\n",
    "\n",
    "# plt.savefig(\"figures/convergence/convergence_standard_varying_bins_30_wide\", dpi=300, bbox_inches='tight')"
   ]
  },
  {
   "cell_type": "code",
   "execution_count": null,
   "metadata": {},
   "outputs": [],
   "source": []
  }
 ],
 "metadata": {
  "kernelspec": {
   "display_name": "Python 3",
   "language": "python",
   "name": "python3"
  },
  "language_info": {
   "codemirror_mode": {
    "name": "ipython",
    "version": 3
   },
   "file_extension": ".py",
   "mimetype": "text/x-python",
   "name": "python",
   "nbconvert_exporter": "python",
   "pygments_lexer": "ipython3",
   "version": "3.7.3"
  }
 },
 "nbformat": 4,
 "nbformat_minor": 2
}
