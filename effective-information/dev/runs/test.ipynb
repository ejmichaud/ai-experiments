{
 "cells": [
  {
   "cell_type": "code",
   "execution_count": 135,
   "metadata": {},
   "outputs": [],
   "source": [
    "from pathlib import Path\n",
    "from random import randint\n",
    "\n",
    "import numpy as np\n",
    "import matplotlib.pyplot as plt\n",
    "\n",
    "import torch\n",
    "import torch.nn as nn\n",
    "import torch.nn.functional as F\n",
    "import torchvision\n",
    "import torchvision.transforms as transforms"
   ]
  },
  {
   "cell_type": "code",
   "execution_count": 167,
   "metadata": {},
   "outputs": [],
   "source": [
    "device = torch.device('cuda' if torch.cuda.is_available() else 'cpu')\n",
    "dtype = torch.float32\n",
    "torch.set_default_dtype(dtype)"
   ]
  },
  {
   "cell_type": "code",
   "execution_count": 5,
   "metadata": {},
   "outputs": [],
   "source": [
    "dataset_dir = Path(\"data\")\n",
    "if not dataset_dir.exists():\n",
    "    dataset_dir.mkdir()"
   ]
  },
  {
   "cell_type": "code",
   "execution_count": 149,
   "metadata": {},
   "outputs": [],
   "source": [
    "class OneHot(object):\n",
    "    \"\"\"Creates one-hot vector given int\"\"\"\n",
    "    def __init__(self, classes, dtype):\n",
    "        self.classes = classes\n",
    "        self.dtype = dtype\n",
    "        \n",
    "    def __call__(self, label):\n",
    "        label = torch.tensor(label, dtype=torch.long)\n",
    "        return F.one_hot(label, self.classes).to(self.dtype)\n",
    "    \n",
    "class RandomOneHot(object):\n",
    "    \"\"\"Creates one-hot vector with random class\"\"\"\n",
    "    def __init__(self, classes, dtype):\n",
    "        self.classes = classes\n",
    "        self.dtype = dtype\n",
    "        \n",
    "    def __call__(self, label):\n",
    "        random_label = torch.tensor(randint(0, self.classes-1), dtype=torch.long)\n",
    "        return F.one_hot(random_label, self.classes).to(self.dtype)"
   ]
  },
  {
   "cell_type": "code",
   "execution_count": 238,
   "metadata": {},
   "outputs": [],
   "source": [
    "training_data = torchvision.datasets.MNIST(dataset_dir, \n",
    "                                train=True, \n",
    "                                download=True,\n",
    "                                transform=transforms.Compose([\n",
    "                                    transforms.ToTensor(),\n",
    "                                    transforms.Lambda(lambda img: img.reshape((784,)))\n",
    "                                ]),\n",
    "                                target_transform=OneHot(10, dtype)\n",
    "                                )\n",
    "\n",
    "testing_data = torchvision.datasets.MNIST(dataset_dir, \n",
    "                                train=False, \n",
    "                                download=True,\n",
    "                                transform=transforms.Compose([\n",
    "                                    transforms.ToTensor(),\n",
    "                                    transforms.Lambda(lambda img: img.reshape((784,)))\n",
    "                                ]))\n",
    "\n",
    "training_loader = torch.utils.data.DataLoader(training_data, \n",
    "                            batch_size=15,\n",
    "                            shuffle=True)\n",
    "\n",
    "testing_loader = torch.utils.data.DataLoader(testing_data, \n",
    "                            batch_size=15,\n",
    "                            shuffle=False)"
   ]
  },
  {
   "cell_type": "code",
   "execution_count": 239,
   "metadata": {},
   "outputs": [],
   "source": [
    "network = nn.Sequential(\n",
    "    nn.Linear(784, 50, bias=False),\n",
    "    nn.Sigmoid(),\n",
    "    nn.Linear(50, 30, bias=False),\n",
    "    nn.Sigmoid(),\n",
    "    nn.Linear(30, 30, bias=False),\n",
    "    nn.Sigmoid(),\n",
    "    nn.Linear(30, 10, bias=False),\n",
    "    nn.Sigmoid()\n",
    ")\n",
    "layer1, _, layer2, _, layer3, _, layer4, _ = network"
   ]
  },
  {
   "cell_type": "code",
   "execution_count": 240,
   "metadata": {},
   "outputs": [],
   "source": [
    "optimizer = torch.optim.SGD(network.parameters(), lr=1e-1)\n",
    "# optimizer = torch.optim.Adam(network.parameters(), lr=1e-3)\n",
    "loss_fn = torch.nn.MSELoss(reduction=\"sum\")"
   ]
  },
  {
   "cell_type": "code",
   "execution_count": 241,
   "metadata": {},
   "outputs": [
    {
     "name": "stdout",
     "output_type": "stream",
     "text": [
      "Epoch:  0 | Loss: 29082.028 | Accuracy: 0.904\n",
      "Epoch:  1 | Loss: 7256.468 | Accuracy: 0.937\n",
      "Epoch:  2 | Loss: 5230.797 | Accuracy: 0.952\n",
      "Epoch:  3 | Loss: 4217.021 | Accuracy: 0.952\n",
      "Epoch:  4 | Loss: 3661.362 | Accuracy: 0.962\n",
      "Epoch:  5 | Loss: 3295.837 | Accuracy: 0.961\n",
      "Epoch:  6 | Loss: 3066.118 | Accuracy: 0.962\n",
      "Epoch:  7 | Loss: 2797.924 | Accuracy: 0.962\n",
      "Epoch:  8 | Loss: 2664.039 | Accuracy: 0.967\n",
      "Epoch:  9 | Loss: 2457.844 | Accuracy: 0.965\n"
     ]
    }
   ],
   "source": [
    "for epoch in range(10):\n",
    "    epoch_loss = 0\n",
    "    for sample, target in training_loader:\n",
    "        optimizer.zero_grad()\n",
    "        batch_loss = loss_fn(network(sample.to(device)), target.to(device))\n",
    "        batch_loss.backward()\n",
    "        optimizer.step()\n",
    "        epoch_loss += batch_loss.item()\n",
    "    outof = 0\n",
    "    accuracy = 0\n",
    "    with torch.no_grad():\n",
    "        for sample, labels in testing_loader:\n",
    "            output = network(sample.to(device))\n",
    "            _, pred = torch.max(output, 1)\n",
    "            accuracy += (pred == labels.to(device)).sum().item()\n",
    "            outof += len(labels)\n",
    "    accuracy = accuracy / outof\n",
    "    print(\"Epoch: {0:2d} | Loss: {1:.3f} | Accuracy: {2:.3f}\".format(epoch, epoch_loss, accuracy))"
   ]
  },
  {
   "cell_type": "code",
   "execution_count": null,
   "metadata": {},
   "outputs": [],
   "source": []
  }
 ],
 "metadata": {
  "kernelspec": {
   "display_name": "Python 3",
   "language": "python",
   "name": "python3"
  },
  "language_info": {
   "codemirror_mode": {
    "name": "ipython",
    "version": 3
   },
   "file_extension": ".py",
   "mimetype": "text/x-python",
   "name": "python",
   "nbconvert_exporter": "python",
   "pygments_lexer": "ipython3",
   "version": "3.6.8"
  }
 },
 "nbformat": 4,
 "nbformat_minor": 2
}
