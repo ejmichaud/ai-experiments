{
 "cells": [
  {
   "cell_type": "code",
   "execution_count": null,
   "metadata": {},
   "outputs": [],
   "source": [
    "import os\n",
    "from pathlib import Path\n",
    "from itertools import islice\n",
    "import gzip\n",
    "import pickle\n",
    "\n",
    "import numpy as np\n",
    "\n",
    "import torch\n",
    "import torch.nn as nn\n",
    "import torch.nn.functional as F\n",
    "from torch.utils.data import Dataset"
   ]
  },
  {
   "cell_type": "code",
   "execution_count": null,
   "metadata": {},
   "outputs": [],
   "source": [
    "dir_path = Path().absolute()\n",
    "dataset_path = dir_path.parent / \"data/mnist.pkl.gz\"\n",
    "if not dataset_path.exists():\n",
    "    print('Downloading dataset with curl ...')\n",
    "    if not dataset_path.parent.exists():\n",
    "        os.mkdir(dataset_path.parent)\n",
    "    url = 'http://ericjmichaud.com/downloads/mnist.pkl.gz'\n",
    "    os.system('curl -L {} -o {}'.format(url, dataset_path))\n",
    "print('Download failed') if not dataset_path.exists() else print('Dataset acquired')\n",
    "f = gzip.open(dataset_path, 'rb')\n",
    "mnist = pickle.load(f)\n",
    "f.close()\n",
    "print('Loaded data to variable `mnist`')"
   ]
  },
  {
   "cell_type": "code",
   "execution_count": null,
   "metadata": {},
   "outputs": [],
   "source": [
    "device = torch.device('cpu')\n",
    "dtype = torch.float32\n",
    "torch.set_default_dtype(dtype)"
   ]
  },
  {
   "cell_type": "code",
   "execution_count": null,
   "metadata": {},
   "outputs": [],
   "source": [
    "class MNISTDataset(Dataset):\n",
    "    \"\"\"MNIST Digits Dataset.\"\"\"\n",
    "    def __init__(self, data, transform=None):\n",
    "        self.mnist = data\n",
    "        self.transform = transform\n",
    "        \n",
    "    def __len__(self):\n",
    "        return len(self.mnist)\n",
    "\n",
    "    def __getitem__(self, idx):\n",
    "        sample = self.mnist[idx]\n",
    "        if self.transform:\n",
    "            sample = self.transform(sample)\n",
    "        return sample\n",
    "\n",
    "class ToTensor(object):\n",
    "    \"\"\"Convert samples (np.ndarray, np.ndarray) to (torch.tensor, torch.tensor)\"\"\"\n",
    "    def __call__(self, sample):\n",
    "        image, one_hot_label = sample\n",
    "        image = torch.from_numpy(image).to(dtype)\n",
    "        label = torch.tensor(np.argmax(one_hot_label)).to(torch.long)\n",
    "        return (image, label)"
   ]
  },
  {
   "cell_type": "code",
   "execution_count": null,
   "metadata": {},
   "outputs": [],
   "source": [
    "train_data = MNISTDataset(mnist[:60000], transform=ToTensor())\n",
    "test_data = MNISTDataset(mnist[60000:], transform=ToTensor())\n",
    "\n",
    "training_loader = torch.utils.data.DataLoader(train_data, batch_size=20, shuffle=True)\n",
    "test_loader = torch.utils.data.DataLoader(test_data, batch_size=20, shuffle=True)"
   ]
  },
  {
   "cell_type": "code",
   "execution_count": null,
   "metadata": {},
   "outputs": [],
   "source": [
    "for epoch in range(100):\n",
    "    for sample, target in training_loader:\n",
    "        del sample, target\n",
    "    print(\"Epoch {:3d} completed.\".format(epoch))"
   ]
  },
  {
   "cell_type": "code",
   "execution_count": null,
   "metadata": {},
   "outputs": [],
   "source": []
  }
 ],
 "metadata": {
  "kernelspec": {
   "display_name": "Python 3",
   "language": "python",
   "name": "python3"
  },
  "language_info": {
   "codemirror_mode": {
    "name": "ipython",
    "version": 3
   },
   "file_extension": ".py",
   "mimetype": "text/x-python",
   "name": "python",
   "nbconvert_exporter": "python",
   "pygments_lexer": "ipython3",
   "version": "3.6.9"
  }
 },
 "nbformat": 4,
 "nbformat_minor": 2
}
