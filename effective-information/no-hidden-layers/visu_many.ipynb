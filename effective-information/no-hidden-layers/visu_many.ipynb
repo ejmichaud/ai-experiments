{
 "cells": [
  {
   "cell_type": "code",
   "execution_count": null,
   "metadata": {},
   "outputs": [],
   "source": [
    "import pickle\n",
    "\n",
    "import matplotlib.pyplot as plt\n",
    "import matplotlib.style as style"
   ]
  },
  {
   "cell_type": "code",
   "execution_count": null,
   "metadata": {},
   "outputs": [],
   "source": [
    "style.available"
   ]
  },
  {
   "cell_type": "code",
   "execution_count": null,
   "metadata": {},
   "outputs": [],
   "source": [
    "import pickle\n",
    "with open(\"plots/graph_data_many.pkl\", \"rb\") as f:\n",
    "    graph_data = pickle.load(f)"
   ]
  },
  {
   "cell_type": "code",
   "execution_count": null,
   "metadata": {},
   "outputs": [],
   "source": [
    "style.use('seaborn-notebook')\n",
    "plt.figure(figsize=(12, 10))\n",
    "for i, (num_batches_data, eis_data, losses_data, accuracies_data) in enumerate(graph_data):\n",
    "    train_losses, test_losses = zip(*losses_data)\n",
    "    plt.subplot(2, 1, 1)\n",
    "    ltrain = \"Training Set\" if i == 0 else None\n",
    "    ltest = \"Test Set\" if i == 0 else None\n",
    "    plt.plot(num_batches_data, train_losses, color='green', label=ltrain, alpha=0.5, linewidth=0.8)\n",
    "    plt.plot(num_batches_data, test_losses, color='red', label=ltest, alpha=0.5, linewidth=0.8)\n",
    "    \n",
    "    plt.subplot(2, 1, 2)\n",
    "    plt.plot(num_batches_data, eis_data, color='blue', alpha=0.5, linewidth=0.8)\n",
    "    \n",
    "\n",
    "plt.subplot(2, 1, 1)\n",
    "plt.title(\"Losses\")\n",
    "plt.xlabel(\"batches\")\n",
    "plt.ylim(0.008, 0.02)\n",
    "plt.xlim(-2500, 50000)\n",
    "plt.legend()\n",
    "    \n",
    "plt.subplot(2, 1, 2)\n",
    "plt.title(\"Effective Information\")\n",
    "plt.xlabel(\"batches\")\n",
    "plt.ylabel(\"bits\")\n",
    "plt.xlim(-2500, 50000)\n",
    "\n",
    "plt.subplots_adjust(hspace=0.3)\n",
    "\n",
    "plt.savefig(\"10-realizations-slice\", dpi=300)"
   ]
  },
  {
   "cell_type": "code",
   "execution_count": null,
   "metadata": {},
   "outputs": [],
   "source": [
    "# style.use('seaborn-notebook')\n",
    "# plt.figure(figsize=(11, 9))\n",
    "# # plt.suptitle(\"Accuracy, Loss, and Effective Information\")\n",
    "\n",
    "# plt.subplot(3, 1, 1)\n",
    "# plt.title(\"Accuracy\")\n",
    "# plt.plot(num_batches_data, accuracies_data, color='orange')\n",
    "# plt.xlabel(\"batches\")\n",
    "\n",
    "# plt.subplot(3, 1, 2)\n",
    "# plt.title(\"Loss\")\n",
    "# plt.plot(num_batches_data, train_losses, label=\"Training Dataset Loss\", color='green')\n",
    "# plt.plot(num_batches_data, test_losses, label=\"Test Dataset Loss\", color='red')\n",
    "# plt.xlabel(\"batches\")\n",
    "# plt.ylabel(\"cross entropy error\")\n",
    "# plt.ylim(0.009, 0.02)\n",
    "# plt.legend()\n",
    "\n",
    "# plt.subplot(3, 1, 3)\n",
    "# plt.title(\"Effective Information\")\n",
    "# plt.plot(num_batches_data, eis_data, color='blue')\n",
    "# plt.xlabel(\"batches\")\n",
    "# plt.ylabel(\"bits\")\n",
    "\n",
    "# plt.subplots_adjust(hspace=0.5)\n",
    "\n",
    "# plt.savefig(\"single-layer-softmax-graph.png\", dpi=200)"
   ]
  }
 ],
 "metadata": {
  "kernelspec": {
   "display_name": "Python 3",
   "language": "python",
   "name": "python3"
  },
  "language_info": {
   "codemirror_mode": {
    "name": "ipython",
    "version": 3
   },
   "file_extension": ".py",
   "mimetype": "text/x-python",
   "name": "python",
   "nbconvert_exporter": "python",
   "pygments_lexer": "ipython3",
   "version": "3.7.3"
  }
 },
 "nbformat": 4,
 "nbformat_minor": 2
}
