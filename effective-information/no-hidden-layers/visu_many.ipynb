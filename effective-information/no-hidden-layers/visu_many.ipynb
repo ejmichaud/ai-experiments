{
 "cells": [
  {
   "cell_type": "code",
   "execution_count": 1,
   "metadata": {},
   "outputs": [],
   "source": [
    "import pickle\n",
    "\n",
    "import matplotlib.pyplot as plt\n",
    "import matplotlib.style as style"
   ]
  },
  {
   "cell_type": "code",
   "execution_count": 2,
   "metadata": {},
   "outputs": [
    {
     "data": {
      "text/plain": [
       "['seaborn-dark',\n",
       " 'seaborn-darkgrid',\n",
       " 'seaborn-ticks',\n",
       " 'fivethirtyeight',\n",
       " 'seaborn-whitegrid',\n",
       " 'classic',\n",
       " '_classic_test',\n",
       " 'fast',\n",
       " 'seaborn-talk',\n",
       " 'seaborn-dark-palette',\n",
       " 'seaborn-bright',\n",
       " 'seaborn-pastel',\n",
       " 'grayscale',\n",
       " 'seaborn-notebook',\n",
       " 'ggplot',\n",
       " 'seaborn-colorblind',\n",
       " 'seaborn-muted',\n",
       " 'seaborn',\n",
       " 'Solarize_Light2',\n",
       " 'seaborn-paper',\n",
       " 'bmh',\n",
       " 'tableau-colorblind10',\n",
       " 'seaborn-white',\n",
       " 'dark_background',\n",
       " 'seaborn-poster',\n",
       " 'seaborn-deep']"
      ]
     },
     "execution_count": 2,
     "metadata": {},
     "output_type": "execute_result"
    }
   ],
   "source": [
    "style.available"
   ]
  },
  {
   "cell_type": "code",
   "execution_count": null,
   "metadata": {},
   "outputs": [],
   "source": [
    "import pickle\n",
    "with open(\"plots/graph_data_many.pkl\", \"rb\") as f:\n",
    "    graph_data = pickle.load(f)"
   ]
  },
  {
   "cell_type": "code",
   "execution_count": null,
   "metadata": {},
   "outputs": [],
   "source": [
    "style.use('seaborn-white')\n",
    "plt.figure(figsize=(10, 7))\n",
    "plt.title(\"Effective Information\")\n",
    "for (num_batches_data, eis_data, losses_data, accuracies_data) in graph_data:\n",
    "    plt.plot(num_batches_data, eis_data, color='blue', alpha=0.5)\n",
    "    plt.xlabel(\"batches\")\n",
    "    plt.ylabel(\"bits\")"
   ]
  },
  {
   "cell_type": "code",
   "execution_count": null,
   "metadata": {},
   "outputs": [],
   "source": [
    "# style.use('seaborn-notebook')\n",
    "# plt.figure(figsize=(11, 9))\n",
    "# # plt.suptitle(\"Accuracy, Loss, and Effective Information\")\n",
    "\n",
    "# plt.subplot(3, 1, 1)\n",
    "# plt.title(\"Accuracy\")\n",
    "# plt.plot(num_batches_data, accuracies_data, color='orange')\n",
    "# plt.xlabel(\"batches\")\n",
    "\n",
    "# plt.subplot(3, 1, 2)\n",
    "# plt.title(\"Loss\")\n",
    "# plt.plot(num_batches_data, train_losses, label=\"Training Dataset Loss\", color='green')\n",
    "# plt.plot(num_batches_data, test_losses, label=\"Test Dataset Loss\", color='red')\n",
    "# plt.xlabel(\"batches\")\n",
    "# plt.ylabel(\"cross entropy error\")\n",
    "# plt.ylim(0.009, 0.02)\n",
    "# plt.legend()\n",
    "\n",
    "# plt.subplot(3, 1, 3)\n",
    "# plt.title(\"Effective Information\")\n",
    "# plt.plot(num_batches_data, eis_data, color='blue')\n",
    "# plt.xlabel(\"batches\")\n",
    "# plt.ylabel(\"bits\")\n",
    "\n",
    "# plt.subplots_adjust(hspace=0.5)\n",
    "\n",
    "# plt.savefig(\"single-layer-softmax-graph.png\", dpi=200)"
   ]
  }
 ],
 "metadata": {
  "kernelspec": {
   "display_name": "Python 3",
   "language": "python",
   "name": "python3"
  },
  "language_info": {
   "codemirror_mode": {
    "name": "ipython",
    "version": 3
   },
   "file_extension": ".py",
   "mimetype": "text/x-python",
   "name": "python",
   "nbconvert_exporter": "python",
   "pygments_lexer": "ipython3",
   "version": "3.6.8"
  }
 },
 "nbformat": 4,
 "nbformat_minor": 2
}
