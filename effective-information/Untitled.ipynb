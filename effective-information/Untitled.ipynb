{
 "cells": [
  {
   "cell_type": "markdown",
   "metadata": {},
   "source": [
    "# Investigating effective information in artificial neural networks\n",
    "\n",
    "$$ EI = H(\\langle W_i^\\text{out} \\rangle) - \\langle H(W_i^\\text{out}) \\rangle $$"
   ]
  },
  {
   "cell_type": "code",
   "execution_count": 1,
   "metadata": {},
   "outputs": [],
   "source": [
    "import numpy as np\n",
    "import matplotlib.pyplot as plt\n",
    "\n",
    "import torch\n",
    "import torch.nn as nn\n",
    "import torch.nn.functional as F"
   ]
  },
  {
   "cell_type": "code",
   "execution_count": 93,
   "metadata": {},
   "outputs": [],
   "source": [
    "def H(x, dim=0):\n",
    "    \"\"\"Compute the Shannon information entropy of x.\n",
    "    \n",
    "    Given a tensor x, compute the shannon entropy along one of its axes. If\n",
    "    x.shape == (N,) then returns a scalar (0-d tensor). If x.shape == (N, N)\n",
    "    then information can be computed along vertical or horizontal axes by\n",
    "    passing arguments dim=0 and dim=1, respectively.\n",
    "    \n",
    "    Note that the function does not check that the axis along which\n",
    "    information will be computed represents a valid probability distribution.\n",
    "    \n",
    "    Args:\n",
    "        x (torch.tensor) containing probability distribution\n",
    "        dim (int) dimension along which to compute entropy\n",
    "    \n",
    "    Returns:\n",
    "        (torch.tensor) of a lower order than input x\n",
    "    \"\"\"\n",
    "    r = x * torch.log2(x)\n",
    "    r[r != r] = 0\n",
    "    return -torch.sum(r, dim=dim)"
   ]
  },
  {
   "cell_type": "code",
   "execution_count": 82,
   "metadata": {},
   "outputs": [],
   "source": [
    "def norm(W):\n",
    "    \"\"\"Turns 2x2 matrix W into a transition probability matrix.\n",
    "    \n",
    "    The weight/adjacency matrix of an ANN does not on its own allow for EI\n",
    "    to be computed. This is because the out weights of a given neuron are not\n",
    "    a probability distribution (they do not necessarily sum to 1). We therefore\n",
    "    must normalize them. Here, I apply a softmax function to each row of matrix\n",
    "    W to ensure that the out-weights are normalized.\n",
    "    \n",
    "    Args:\n",
    "        W (torch.tensor) of shape (2, 2)\n",
    "        \n",
    "    Returns:\n",
    "        (torch.tensor) of shape (2, 2)\n",
    "    \"\"\"\n",
    "    return F.softmax(W, dim=1)"
   ]
  },
  {
   "cell_type": "code",
   "execution_count": 171,
   "metadata": {},
   "outputs": [],
   "source": [
    "def EI(W, normalize=True):\n",
    "    \"\"\"Compute effective information from connectivity matrix W.\"\"\"\n",
    "    if normalize:\n",
    "        W = norm(W)\n",
    "    N = int(W.shape[0]) # number of neurons\n",
    "    degeneracy = H(torch.sum(W, dim=0)/N)\n",
    "    determinism = torch.mean(H(W, dim=1))\n",
    "    return degeneracy - determinism"
   ]
  },
  {
   "cell_type": "code",
   "execution_count": 172,
   "metadata": {},
   "outputs": [
    {
     "data": {
      "text/plain": [
       "tensor(0.6555)"
      ]
     },
     "execution_count": 172,
     "metadata": {},
     "output_type": "execute_result"
    }
   ],
   "source": [
    "N = 100\n",
    "EI(torch.normal(mean=torch.zeros((N, N)), std=1))"
   ]
  },
  {
   "cell_type": "code",
   "execution_count": 173,
   "metadata": {},
   "outputs": [
    {
     "data": {
      "text/plain": [
       "tensor(0.0571)"
      ]
     },
     "execution_count": 173,
     "metadata": {},
     "output_type": "execute_result"
    }
   ],
   "source": [
    "N = 100\n",
    "EI(torch.rand((N,N)))"
   ]
  },
  {
   "cell_type": "code",
   "execution_count": 66,
   "metadata": {},
   "outputs": [],
   "source": [
    "a = torch.zeros((5,))\n",
    "a[2] = 1"
   ]
  },
  {
   "cell_type": "code",
   "execution_count": 75,
   "metadata": {},
   "outputs": [
    {
     "data": {
      "text/plain": [
       "tensor([1.1222, 1.1524, 1.4886])"
      ]
     },
     "execution_count": 75,
     "metadata": {},
     "output_type": "execute_result"
    }
   ],
   "source": [
    "H(W_norm, dim=1)"
   ]
  },
  {
   "cell_type": "code",
   "execution_count": null,
   "metadata": {},
   "outputs": [],
   "source": []
  }
 ],
 "metadata": {
  "kernelspec": {
   "display_name": "Python 3",
   "language": "python",
   "name": "python3"
  },
  "language_info": {
   "codemirror_mode": {
    "name": "ipython",
    "version": 3
   },
   "file_extension": ".py",
   "mimetype": "text/x-python",
   "name": "python",
   "nbconvert_exporter": "python",
   "pygments_lexer": "ipython3",
   "version": "3.7.3"
  }
 },
 "nbformat": 4,
 "nbformat_minor": 2
}
