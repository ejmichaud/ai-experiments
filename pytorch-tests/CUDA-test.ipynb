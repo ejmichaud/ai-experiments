{
 "cells": [
  {
   "cell_type": "code",
   "execution_count": 1,
   "metadata": {},
   "outputs": [],
   "source": [
    "import time\n",
    "\n",
    "import numpy as np\n",
    "import torch"
   ]
  },
  {
   "cell_type": "code",
   "execution_count": 2,
   "metadata": {},
   "outputs": [],
   "source": [
    "def timeit(size, iterations=10, cuda=False):\n",
    "    m = torch.tensor(np.random.randn(size, size))\n",
    "    print('done generating matrix')\n",
    "    if cuda:\n",
    "        print('moving to gpu...')\n",
    "    t0 = time.time()\n",
    "    if cuda:\n",
    "        m = m.to('cuda')\n",
    "    for _ in range(iterations):\n",
    "        m = torch.matmul(m, m)\n",
    "    print('{:.4f}s to multiply'.format(time.time() - t0))"
   ]
  },
  {
   "cell_type": "code",
   "execution_count": 8,
   "metadata": {},
   "outputs": [
    {
     "name": "stdout",
     "output_type": "stream",
     "text": [
      "done generating matrix\n",
      "2.3678s to multiply\n"
     ]
    }
   ],
   "source": [
    "timeit(3000, iterations=10, cuda=False)"
   ]
  },
  {
   "cell_type": "code",
   "execution_count": 9,
   "metadata": {},
   "outputs": [
    {
     "name": "stdout",
     "output_type": "stream",
     "text": [
      "done generating matrix\n",
      "moving to gpu...\n",
      "0.0084s to multiply\n"
     ]
    }
   ],
   "source": [
    "timeit(3000, iterations=10, cuda=True)"
   ]
  },
  {
   "cell_type": "code",
   "execution_count": 10,
   "metadata": {},
   "outputs": [
    {
     "name": "stdout",
     "output_type": "stream",
     "text": [
      "done generating matrix\n",
      "10.8337s to multiply\n"
     ]
    }
   ],
   "source": [
    "timeit(5000, iterations=10, cuda=False)"
   ]
  },
  {
   "cell_type": "code",
   "execution_count": 11,
   "metadata": {},
   "outputs": [
    {
     "name": "stdout",
     "output_type": "stream",
     "text": [
      "done generating matrix\n",
      "moving to gpu...\n",
      "0.0226s to multiply\n"
     ]
    }
   ],
   "source": [
    "timeit(5000, iterations=10, cuda=True)"
   ]
  },
  {
   "cell_type": "markdown",
   "metadata": {},
   "source": [
    "# 500x speedup!!!!!!!!!!!!"
   ]
  },
  {
   "cell_type": "code",
   "execution_count": null,
   "metadata": {},
   "outputs": [],
   "source": []
  }
 ],
 "metadata": {
  "kernelspec": {
   "display_name": "Python 3",
   "language": "python",
   "name": "python3"
  },
  "language_info": {
   "codemirror_mode": {
    "name": "ipython",
    "version": 3
   },
   "file_extension": ".py",
   "mimetype": "text/x-python",
   "name": "python",
   "nbconvert_exporter": "python",
   "pygments_lexer": "ipython3",
   "version": "3.7.3"
  }
 },
 "nbformat": 4,
 "nbformat_minor": 2
}
