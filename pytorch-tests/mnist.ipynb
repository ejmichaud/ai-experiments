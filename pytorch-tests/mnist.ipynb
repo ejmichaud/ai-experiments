{
 "cells": [
  {
   "cell_type": "markdown",
   "metadata": {},
   "source": [
    "# Simple MNIST with PyTorch\n",
    "\n",
    "Here, I train a single-layer softmax network on the MNIST dataset. At the end, we can visualize the weight matrices that correspond to each digit, to see what the network learned about the pixels that correlate positively vs. negatively with a given classification."
   ]
  },
  {
   "cell_type": "code",
   "execution_count": 1,
   "metadata": {},
   "outputs": [],
   "source": [
    "import os, sys\n",
    "from pathlib import Path\n",
    "import pickle\n",
    "import gzip\n",
    "\n",
    "import numpy as np\n",
    "import matplotlib.pyplot as plt\n",
    "\n",
    "import torch\n",
    "import torch.nn as nn\n",
    "import torch.nn.functional as F\n",
    "from torch.utils.data import Dataset\n",
    "import torchvision\n",
    "import torchvision.transforms as transforms"
   ]
  },
  {
   "cell_type": "code",
   "execution_count": 2,
   "metadata": {},
   "outputs": [
    {
     "name": "stdout",
     "output_type": "stream",
     "text": [
      "Downloading dataset with curl ...\n",
      "Dataset acquired\n",
      "Loaded data to variable `mnist`\n"
     ]
    }
   ],
   "source": [
    "dir_path = Path().absolute()\n",
    "dataset_path = dir_path.parent / \"data/mnist.pkl.gz\"\n",
    "if not dataset_path.exists():\n",
    "    print('Downloading dataset with curl ...')\n",
    "    if not dataset_path.parent.exists():\n",
    "        os.mkdir(dataset_path.parent)\n",
    "    url = 'http://ericjmichaud.com/downloads/mnist.pkl.gz'\n",
    "    os.system('curl -L {} -o {}'.format(url, dataset_path))\n",
    "print('Download failed') if not dataset_path.exists() else print('Dataset acquired')\n",
    "f = gzip.open(dataset_path, 'rb')\n",
    "mnist = pickle.load(f)\n",
    "f.close()\n",
    "print('Loaded data to variable `mnist`')"
   ]
  },
  {
   "cell_type": "code",
   "execution_count": 39,
   "metadata": {},
   "outputs": [
    {
     "ename": "AttributeError",
     "evalue": "module 'torch.cuda' has no attribute 'float'",
     "output_type": "error",
     "traceback": [
      "\u001b[0;31m---------------------------------------------------------------------------\u001b[0m",
      "\u001b[0;31mAttributeError\u001b[0m                            Traceback (most recent call last)",
      "\u001b[0;32m<ipython-input-39-167ebd69958f>\u001b[0m in \u001b[0;36m<module>\u001b[0;34m\u001b[0m\n\u001b[0;32m----> 1\u001b[0;31m \u001b[0mdtype\u001b[0m \u001b[0;34m=\u001b[0m \u001b[0mtorch\u001b[0m\u001b[0;34m.\u001b[0m\u001b[0mcuda\u001b[0m\u001b[0;34m.\u001b[0m\u001b[0mfloat\u001b[0m \u001b[0;32mif\u001b[0m \u001b[0mtorch\u001b[0m\u001b[0;34m.\u001b[0m\u001b[0mcuda\u001b[0m\u001b[0;34m.\u001b[0m\u001b[0mis_available\u001b[0m\u001b[0;34m(\u001b[0m\u001b[0;34m)\u001b[0m \u001b[0;32melse\u001b[0m \u001b[0mtorch\u001b[0m\u001b[0;34m.\u001b[0m\u001b[0mfloat\u001b[0m\u001b[0;34m\u001b[0m\u001b[0;34m\u001b[0m\u001b[0m\n\u001b[0m\u001b[1;32m      2\u001b[0m \u001b[0mtorch\u001b[0m\u001b[0;34m.\u001b[0m\u001b[0mset_default_dtype\u001b[0m\u001b[0;34m(\u001b[0m\u001b[0mdtype\u001b[0m\u001b[0;34m)\u001b[0m\u001b[0;34m\u001b[0m\u001b[0;34m\u001b[0m\u001b[0m\n",
      "\u001b[0;31mAttributeError\u001b[0m: module 'torch.cuda' has no attribute 'float'"
     ]
    }
   ],
   "source": [
    "dtype = torch.cuda.float if torch.cuda.is_available() else torch.float\n",
    "torch.set_default_dtype(dtype)"
   ]
  },
  {
   "cell_type": "code",
   "execution_count": 5,
   "metadata": {},
   "outputs": [],
   "source": [
    "class MNISTDataset(Dataset):\n",
    "    \"\"\"MNIST Digits Dataset.\"\"\"\n",
    "    def __init__(self, data, transform=None):\n",
    "        self.mnist = data\n",
    "        self.transform = transform\n",
    "        \n",
    "    def __len__(self):\n",
    "        return len(self.mnist)\n",
    "\n",
    "    def __getitem__(self, idx):\n",
    "        sample = self.mnist[idx]\n",
    "        if self.transform:\n",
    "            sample = self.transform(sample)\n",
    "        return sample\n",
    "\n",
    "class ToTensor(object):\n",
    "    \"\"\"Convert samples (np.ndarray, np.ndarray) to (torch.tensor, torch.tensor)\"\"\"\n",
    "    def __call__(self, sample):\n",
    "        image, one_hot_label = sample\n",
    "        image = torch.from_numpy(image).to(dtype)\n",
    "        label = torch.tensor(np.argmax(one_hot_label)).to(torch.long)\n",
    "        return (image, label)\n"
   ]
  },
  {
   "cell_type": "code",
   "execution_count": 11,
   "metadata": {},
   "outputs": [],
   "source": [
    "training = MNISTDataset(mnist[:60000], transform=ToTensor())\n",
    "test = MNISTDataset(mnist[60000:], transform=ToTensor())\n",
    "training_loader = torch.utils.data.DataLoader(training, batch_size=10, shuffle=True)\n",
    "test_loader = torch.utils.data.DataLoader(test, batch_size=100, shuffle=True)"
   ]
  },
  {
   "cell_type": "code",
   "execution_count": 12,
   "metadata": {},
   "outputs": [],
   "source": [
    "class SoftmaxRegression(nn.Module):\n",
    "    \"\"\"Single-layer softmax network.\"\"\"\n",
    "    def __init__(self, n_in, n_out):\n",
    "        super(SoftmaxRegression, self).__init__()\n",
    "        self.linear = nn.Linear(n_in, n_out)\n",
    "    \n",
    "    def forward(self, x):\n",
    "        return F.log_softmax(self.linear(x), dim=1)\n",
    "        \n",
    "model = SoftmaxRegression(28*28, 10)\n",
    "loss = nn.NLLLoss()\n",
    "optimizer = torch.optim.Adam(model.parameters())"
   ]
  },
  {
   "cell_type": "code",
   "execution_count": 13,
   "metadata": {},
   "outputs": [
    {
     "name": "stdout",
     "output_type": "stream",
     "text": [
      " Epoch 0 | Accuracy = 0.9160%\n",
      " Epoch 1 | Accuracy = 0.9231%\n",
      " Epoch 2 | Accuracy = 0.9243%\n",
      " Epoch 3 | Accuracy = 0.9260%\n",
      " Epoch 4 | Accuracy = 0.9227%\n",
      " Epoch 5 | Accuracy = 0.9274%\n",
      " Epoch 6 | Accuracy = 0.9275%\n",
      " Epoch 7 | Accuracy = 0.9208%\n",
      " Epoch 8 | Accuracy = 0.9260%\n",
      " Epoch 9 | Accuracy = 0.9277%\n"
     ]
    }
   ],
   "source": [
    "for epoch in range(10):\n",
    "    for batch in training_loader:\n",
    "        x, labels = batch       \n",
    "        output = model(x)\n",
    "        l = loss(output, labels)\n",
    "        optimizer.zero_grad()\n",
    "        l.backward()\n",
    "        optimizer.step()\n",
    "    correct = 0\n",
    "    with torch.no_grad():\n",
    "        for batch in test_loader:\n",
    "            x, labels = batch\n",
    "            output = model(x)\n",
    "            _, pred = torch.max(output, 1)\n",
    "            correct += (pred == labels).sum().item()\n",
    "    print(\" Epoch {} | Accuracy = {:.4f}%\".format(epoch, correct / len(test)))"
   ]
  },
  {
   "cell_type": "markdown",
   "metadata": {},
   "source": [
    "# Visualize model weights for each digit"
   ]
  },
  {
   "cell_type": "code",
   "execution_count": 18,
   "metadata": {},
   "outputs": [
    {
     "data": {
      "image/png": "[encoded data removed]",
      "text/plain": [
       "<Figure size 864x432 with 10 Axes>"
      ]
     },
     "metadata": {
      "needs_background": "light"
     },
     "output_type": "display_data"
    }
   ],
   "source": [
    "plt.figure(figsize=(12, 6))\n",
    "with torch.no_grad():\n",
    "    for i in range(10):\n",
    "        weights = model.linear.weight[i].reshape(28,28)\n",
    "        plt.subplot(2, 5, i+1)\n",
    "        plt.imshow(weights.detach().numpy(), cmap='plasma')\n",
    "        plt.title(str(i))"
   ]
  },
  {
   "cell_type": "markdown",
   "metadata": {},
   "source": [
    "# Create larger network and train on GPU"
   ]
  },
  {
   "cell_type": "code",
   "execution_count": 35,
   "metadata": {},
   "outputs": [],
   "source": [
    "class WideNet(nn.Module):\n",
    "    \"\"\"2 fully connected hidden layers.\"\"\"\n",
    "    def __init__(self, n_in, width, n_out):\n",
    "        super(WideNet, self).__init__()\n",
    "        self.fc1 = nn.Linear(n_in, width, bias=True)\n",
    "        self.fc2 = nn.Linear(width, width, bias=True)\n",
    "        self.fc3 = nn.Linear(width, n_out, bias=True)\n",
    "    \n",
    "    def forward(self, x):\n",
    "        x = F.leaky_relu(self.fc1(x))\n",
    "        x = F.leaky_relu(self.fc2(x))\n",
    "        x = self.fc3(x)\n",
    "        return x\n"
   ]
  },
  {
   "cell_type": "code",
   "execution_count": 40,
   "metadata": {},
   "outputs": [],
   "source": [
    "device = torch.device(\"cuda:0\" if torch.cuda.is_available() else \"cpu\")"
   ]
  },
  {
   "cell_type": "code",
   "execution_count": 66,
   "metadata": {},
   "outputs": [],
   "source": [
    "net = WideNet(28*28, 3000, 10).to(device)\n",
    "loss = nn.CrossEntropyLoss()\n",
    "optimizer = torch.optim.Adam(net.parameters())"
   ]
  },
  {
   "cell_type": "code",
   "execution_count": 67,
   "metadata": {},
   "outputs": [
    {
     "name": "stdout",
     "output_type": "stream",
     "text": [
      " Epoch 0 | Accuracy = 0.9501%\n",
      " Epoch 1 | Accuracy = 0.9696%\n",
      " Epoch 2 | Accuracy = 0.9671%\n",
      " Epoch 3 | Accuracy = 0.9684%\n",
      " Epoch 4 | Accuracy = 0.9753%\n",
      " Epoch 5 | Accuracy = 0.9656%\n",
      " Epoch 6 | Accuracy = 0.9712%\n",
      " Epoch 7 | Accuracy = 0.9759%\n",
      " Epoch 8 | Accuracy = 0.9755%\n",
      " Epoch 9 | Accuracy = 0.9733%\n"
     ]
    }
   ],
   "source": [
    "for epoch in range(10):\n",
    "    for batch in training_loader:\n",
    "        x, labels = batch\n",
    "        x = x.to(device)\n",
    "        labels = labels.to(device)\n",
    "        output = net(x)\n",
    "        l = loss(output, labels)\n",
    "        optimizer.zero_grad()\n",
    "        l.backward()\n",
    "        optimizer.step()\n",
    "    correct = 0\n",
    "    with torch.no_grad():\n",
    "        for batch in test_loader:\n",
    "            x, labels = batch\n",
    "            x = x.to(device)\n",
    "            labels = labels.to(device)\n",
    "            output = net(x)\n",
    "            _, pred = torch.max(output, 1)\n",
    "            correct += (pred == labels).sum().item()\n",
    "    print(\" Epoch {} | Accuracy = {:.4f}%\".format(epoch, correct / len(test)))"
   ]
  },
  {
   "cell_type": "code",
   "execution_count": null,
   "metadata": {},
   "outputs": [],
   "source": []
  }
 ],
 "metadata": {
  "kernelspec": {
   "display_name": "Python 3",
   "language": "python",
   "name": "python3"
  },
  "language_info": {
   "codemirror_mode": {
    "name": "ipython",
    "version": 3
   },
   "file_extension": ".py",
   "mimetype": "text/x-python",
   "name": "python",
   "nbconvert_exporter": "python",
   "pygments_lexer": "ipython3",
   "version": "3.7.3"
  }
 },
 "nbformat": 4,
 "nbformat_minor": 2
}
